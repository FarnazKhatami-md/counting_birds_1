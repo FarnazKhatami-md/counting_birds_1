{
  "metadata": {
    "kernelspec": {
      "name": "python",
      "display_name": "Python (Pyodide)",
      "language": "python"
    },
    "language_info": {
      "codemirror_mode": {
        "name": "python",
        "version": 3
      },
      "file_extension": ".py",
      "mimetype": "text/x-python",
      "name": "python",
      "nbconvert_exporter": "python",
      "pygments_lexer": "ipython3",
      "version": "3.8"
    }
  },
  "nbformat_minor": 5,
  "nbformat": 4,
  "cells": [
    {
      "id": "f2a84f55-e3b1-4b4d-9142-54a559062bda",
      "cell_type": "markdown",
      "source": "Analysis Start\n",
      "metadata": {}
    },
    {
      "id": "e64b5ead-6170-4329-b1ce-c82d0bc45f9d",
      "cell_type": "markdown",
      "source": "Name: Farnaz Khatami\n\nEmail: farnaz.khatami@unibe.ch\n\nwebsite",
      "metadata": {}
    },
    {
      "id": "a518b1da-f5ac-4f59-bdf1-5160f68c5946",
      "cell_type": "markdown",
      "source": "Name: Farnaz Khatami\n\nEmail: farnaz.khatami@unibe.ch\n\nwebsite",
      "metadata": {}
    },
    {
      "id": "2a49473b-3983-4ac2-96a7-d7ac2069e507",
      "cell_type": "markdown",
      "source": "temprature=254*34",
      "metadata": {}
    },
    {
      "id": "4c8094c9-2b5e-4b56-8efa-e09bd23e3f24",
      "cell_type": "markdown",
      "source": "temprat",
      "metadata": {}
    }
  ]
}